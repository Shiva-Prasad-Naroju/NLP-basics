{
 "cells": [
  {
   "cell_type": "markdown",
   "id": "d5f6cebc",
   "metadata": {},
   "source": [
    "## Parts Of Speech"
   ]
  },
  {
   "cell_type": "code",
   "execution_count": 1,
   "id": "1de5b836",
   "metadata": {},
   "outputs": [],
   "source": [
    "import nltk\n",
    "from nltk import word_tokenize, pos_tag"
   ]
  },
  {
   "cell_type": "code",
   "execution_count": 8,
   "id": "7cfd479b",
   "metadata": {},
   "outputs": [
    {
     "name": "stderr",
     "output_type": "stream",
     "text": [
      "[nltk_data] Downloading package punkt to\n",
      "[nltk_data]     C:\\Users\\DELL\\AppData\\Roaming\\nltk_data...\n",
      "[nltk_data]   Package punkt is already up-to-date!\n",
      "[nltk_data] Downloading package averaged_perceptron_tagger_eng to\n",
      "[nltk_data]     C:\\Users\\DELL\\AppData\\Roaming\\nltk_data...\n",
      "[nltk_data]   Unzipping taggers\\averaged_perceptron_tagger_eng.zip.\n"
     ]
    },
    {
     "data": {
      "text/plain": [
       "True"
      ]
     },
     "execution_count": 8,
     "metadata": {},
     "output_type": "execute_result"
    }
   ],
   "source": [
    "nltk.download('punkt')\n",
    "nltk.download('averaged_perceptron_tagger_eng')"
   ]
  },
  {
   "cell_type": "code",
   "execution_count": 9,
   "id": "dd733f31",
   "metadata": {},
   "outputs": [],
   "source": [
    "text = \"I am Shiva Prasad Naroju working on AI & ML projects\"\n",
    "\n",
    "tokens = word_tokenize(text)\n",
    "\n",
    "pos_tags = pos_tag(tokens)"
   ]
  },
  {
   "cell_type": "code",
   "execution_count": 12,
   "id": "f2be6544",
   "metadata": {},
   "outputs": [
    {
     "name": "stdout",
     "output_type": "stream",
     "text": [
      "('I', 'PRP')\n",
      "('am', 'VBP')\n",
      "('Shiva', 'JJ')\n",
      "('Prasad', 'NNP')\n",
      "('Naroju', 'NNP')\n",
      "('working', 'VBG')\n",
      "('on', 'IN')\n",
      "('AI', 'NNP')\n",
      "('&', 'CC')\n",
      "('ML', 'NNP')\n",
      "('projects', 'NNS')\n"
     ]
    }
   ],
   "source": [
    "for i in pos_tags:\n",
    "    print(i)"
   ]
  },
  {
   "cell_type": "markdown",
   "id": "2dca2392",
   "metadata": {},
   "source": [
    "#### Extracting only Nound (\"NN\")"
   ]
  },
  {
   "cell_type": "code",
   "execution_count": 16,
   "id": "58bc60b0",
   "metadata": {},
   "outputs": [],
   "source": [
    "nouns = [[i,j] for i,j in pos_tags if j.startswith(\"NN\")]"
   ]
  },
  {
   "cell_type": "code",
   "execution_count": 19,
   "id": "430a65e1",
   "metadata": {},
   "outputs": [
    {
     "name": "stdout",
     "output_type": "stream",
     "text": [
      "['Prasad', 'NNP']\n",
      "['Naroju', 'NNP']\n",
      "['AI', 'NNP']\n",
      "['ML', 'NNP']\n",
      "['projects', 'NNS']\n"
     ]
    }
   ],
   "source": [
    "for i in nouns:\n",
    "    print(i)"
   ]
  },
  {
   "cell_type": "markdown",
   "id": "9dc9b045",
   "metadata": {},
   "source": [
    "#### Extracting only Verbs (\"VB\")"
   ]
  },
  {
   "cell_type": "code",
   "execution_count": 20,
   "id": "a3174ee4",
   "metadata": {},
   "outputs": [],
   "source": [
    "verbs = [[i,j] for i,j in pos_tags if j.startswith(\"VB\")]"
   ]
  },
  {
   "cell_type": "code",
   "execution_count": 21,
   "id": "617f1663",
   "metadata": {},
   "outputs": [
    {
     "name": "stdout",
     "output_type": "stream",
     "text": [
      "['am', 'VBP']\n",
      "['working', 'VBG']\n"
     ]
    }
   ],
   "source": [
    "for i in verbs:\n",
    "    print(i)"
   ]
  },
  {
   "cell_type": "markdown",
   "id": "d1a4d077",
   "metadata": {},
   "source": [
    "#### Named Entity Recognition:"
   ]
  },
  {
   "cell_type": "markdown",
   "id": "de9e4166",
   "metadata": {},
   "source": [
    "Named Entity Recognition (NER) is the process of identifying and classifying named entities in text into predefined categories such as person names, organizations, locations, dates, and more."
   ]
  },
  {
   "cell_type": "code",
   "execution_count": 24,
   "id": "ab1af155",
   "metadata": {},
   "outputs": [
    {
     "name": "stderr",
     "output_type": "stream",
     "text": [
      "[nltk_data] Downloading package maxent_ne_chunker to\n",
      "[nltk_data]     C:\\Users\\DELL\\AppData\\Roaming\\nltk_data...\n",
      "[nltk_data]   Package maxent_ne_chunker is already up-to-date!\n",
      "[nltk_data] Downloading package maxent_ne_chunker_tab to\n",
      "[nltk_data]     C:\\Users\\DELL\\AppData\\Roaming\\nltk_data...\n",
      "[nltk_data]   Unzipping chunkers\\maxent_ne_chunker_tab.zip.\n",
      "[nltk_data] Downloading package words to\n",
      "[nltk_data]     C:\\Users\\DELL\\AppData\\Roaming\\nltk_data...\n",
      "[nltk_data]   Package words is already up-to-date!\n"
     ]
    },
    {
     "data": {
      "text/plain": [
       "True"
      ]
     },
     "execution_count": 24,
     "metadata": {},
     "output_type": "execute_result"
    }
   ],
   "source": [
    "from nltk import ne_chunk\n",
    "\n",
    "\n",
    "nltk.download('maxent_ne_chunker')\n",
    "nltk.download('maxent_ne_chunker_tab')\n",
    "nltk.download('words')"
   ]
  },
  {
   "cell_type": "code",
   "execution_count": 28,
   "id": "b437790c",
   "metadata": {},
   "outputs": [],
   "source": [
    "ner_tags = ne_chunk(pos_tags)"
   ]
  },
  {
   "cell_type": "code",
   "execution_count": 29,
   "id": "5d549f20",
   "metadata": {},
   "outputs": [
    {
     "name": "stdout",
     "output_type": "stream",
     "text": [
      "('I', 'PRP')\n",
      "('am', 'VBP')\n",
      "(PERSON Shiva/JJ Prasad/NNP Naroju/NNP)\n",
      "('working', 'VBG')\n",
      "('on', 'IN')\n",
      "('AI', 'NNP')\n",
      "('&', 'CC')\n",
      "('ML', 'NNP')\n",
      "('projects', 'NNS')\n"
     ]
    }
   ],
   "source": [
    "for i in ner_tags:\n",
    "    print(i)"
   ]
  },
  {
   "cell_type": "code",
   "execution_count": null,
   "id": "ecfcbabf",
   "metadata": {},
   "outputs": [],
   "source": []
  },
  {
   "cell_type": "code",
   "execution_count": null,
   "id": "c295818b",
   "metadata": {},
   "outputs": [],
   "source": []
  },
  {
   "cell_type": "code",
   "execution_count": null,
   "id": "d93274ee",
   "metadata": {},
   "outputs": [],
   "source": []
  }
 ],
 "metadata": {
  "kernelspec": {
   "display_name": "base",
   "language": "python",
   "name": "python3"
  },
  "language_info": {
   "codemirror_mode": {
    "name": "ipython",
    "version": 3
   },
   "file_extension": ".py",
   "mimetype": "text/x-python",
   "name": "python",
   "nbconvert_exporter": "python",
   "pygments_lexer": "ipython3",
   "version": "3.12.7"
  }
 },
 "nbformat": 4,
 "nbformat_minor": 5
}
