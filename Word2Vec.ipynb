{
 "cells": [
  {
   "cell_type": "markdown",
   "id": "ef14bfcc",
   "metadata": {},
   "source": [
    "## Word2Vec"
   ]
  },
  {
   "cell_type": "markdown",
   "id": "29ca8493",
   "metadata": {},
   "source": [
    "Word2Vec is a technique that turns words into vectors based on the context in which they appear, so that similar words have similar vector representations."
   ]
  },
  {
   "cell_type": "code",
   "execution_count": 2,
   "id": "2e70f664",
   "metadata": {},
   "outputs": [
    {
     "name": "stdout",
     "output_type": "stream",
     "text": [
      "Requirement already satisfied: gensim in c:\\users\\dell\\anaconda3\\lib\\site-packages (4.3.3)\n",
      "Requirement already satisfied: numpy<2.0,>=1.18.5 in c:\\users\\dell\\anaconda3\\lib\\site-packages (from gensim) (1.26.4)\n",
      "Requirement already satisfied: scipy<1.14.0,>=1.7.0 in c:\\users\\dell\\anaconda3\\lib\\site-packages (from gensim) (1.13.1)\n",
      "Requirement already satisfied: smart-open>=1.8.1 in c:\\users\\dell\\anaconda3\\lib\\site-packages (from gensim) (5.2.1)\n",
      "Note: you may need to restart the kernel to use updated packages.\n"
     ]
    }
   ],
   "source": [
    "pip install gensim"
   ]
  },
  {
   "cell_type": "code",
   "execution_count": 4,
   "id": "c6c48572",
   "metadata": {},
   "outputs": [],
   "source": [
    "import gensim\n",
    "from gensim.models import Word2Vec, KeyedVectors\n",
    "\n",
    "import gensim.downloader as api"
   ]
  },
  {
   "cell_type": "code",
   "execution_count": 5,
   "id": "9caa4b4c",
   "metadata": {},
   "outputs": [
    {
     "name": "stdout",
     "output_type": "stream",
     "text": [
      "[==================================================] 100.0% 1662.8/1662.8MB downloaded\n"
     ]
    }
   ],
   "source": [
    "wv = api.load('word2vec-google-news-300')\n",
    "\n",
    "vector_man = wv['man']"
   ]
  },
  {
   "cell_type": "code",
   "execution_count": 6,
   "id": "3557900e",
   "metadata": {},
   "outputs": [
    {
     "name": "stdout",
     "output_type": "stream",
     "text": [
      "[ 0.32617188  0.13085938  0.03466797 -0.08300781  0.08984375 -0.04125977\n",
      " -0.19824219  0.00689697  0.14355469  0.0019455   0.02880859 -0.25\n",
      " -0.08398438 -0.15136719 -0.10205078  0.04077148 -0.09765625  0.05932617\n",
      "  0.02978516 -0.10058594 -0.13085938  0.001297    0.02612305 -0.27148438\n",
      "  0.06396484 -0.19140625 -0.078125    0.25976562  0.375      -0.04541016\n",
      "  0.16210938  0.13671875 -0.06396484 -0.02062988 -0.09667969  0.25390625\n",
      "  0.24804688 -0.12695312  0.07177734  0.3203125   0.03149414 -0.03857422\n",
      "  0.21191406 -0.00811768  0.22265625 -0.13476562 -0.07617188  0.01049805\n",
      " -0.05175781  0.03808594 -0.13378906  0.125       0.0559082  -0.18261719\n",
      "  0.08154297 -0.08447266 -0.07763672 -0.04345703  0.08105469 -0.01092529\n",
      "  0.17480469  0.30664062 -0.04321289 -0.01416016  0.09082031 -0.00927734\n",
      " -0.03442383 -0.11523438  0.12451172 -0.0246582   0.08544922  0.14355469\n",
      " -0.27734375  0.03662109 -0.11035156  0.13085938 -0.01721191 -0.08056641\n",
      " -0.00708008 -0.02954102  0.30078125 -0.09033203  0.03149414 -0.18652344\n",
      " -0.11181641  0.10253906 -0.25976562 -0.02209473  0.16796875 -0.05322266\n",
      " -0.14550781 -0.01049805 -0.03039551 -0.03857422  0.11523438 -0.0062561\n",
      " -0.13964844  0.08007812  0.06103516 -0.15332031 -0.11132812 -0.14160156\n",
      "  0.19824219 -0.06933594  0.29296875 -0.16015625  0.20898438  0.00041771\n",
      "  0.01831055 -0.20214844  0.04760742  0.05810547 -0.0123291  -0.01989746\n",
      " -0.00364685 -0.0135498  -0.08251953 -0.03149414  0.00717163  0.20117188\n",
      "  0.08300781 -0.0480957  -0.26367188 -0.09667969 -0.22558594 -0.09667969\n",
      "  0.06494141 -0.02502441  0.08496094  0.03198242 -0.07568359 -0.25390625\n",
      " -0.11669922 -0.01446533 -0.16015625 -0.00701904 -0.05712891  0.02807617\n",
      " -0.09179688  0.25195312  0.24121094  0.06640625  0.12988281  0.17089844\n",
      " -0.13671875  0.1875     -0.10009766 -0.04199219 -0.12011719  0.00524902\n",
      "  0.15625    -0.203125   -0.07128906 -0.06103516  0.01635742  0.18261719\n",
      "  0.03588867 -0.04248047  0.16796875 -0.15039062 -0.16992188  0.01831055\n",
      "  0.27734375 -0.01269531 -0.0390625  -0.15429688  0.18457031 -0.07910156\n",
      "  0.09033203 -0.02709961  0.08251953  0.06738281 -0.16113281 -0.19628906\n",
      " -0.15234375 -0.04711914  0.04760742  0.05908203 -0.16894531 -0.14941406\n",
      "  0.12988281  0.04321289  0.02624512 -0.1796875  -0.19628906  0.06445312\n",
      "  0.08935547  0.1640625  -0.03808594 -0.09814453 -0.01483154  0.1875\n",
      "  0.12792969  0.22753906  0.01818848 -0.07958984 -0.11376953 -0.06933594\n",
      " -0.15527344 -0.08105469 -0.09277344 -0.11328125 -0.15136719 -0.08007812\n",
      " -0.05126953 -0.15332031  0.11669922  0.06835938  0.0324707  -0.33984375\n",
      " -0.08154297 -0.08349609  0.04003906  0.04907227 -0.24121094 -0.13476562\n",
      " -0.05932617  0.12158203 -0.34179688  0.16503906  0.06176758 -0.18164062\n",
      "  0.20117188 -0.07714844  0.1640625   0.00402832  0.30273438 -0.10009766\n",
      " -0.13671875 -0.05957031  0.0625     -0.21289062 -0.06542969  0.1796875\n",
      " -0.07763672 -0.01928711 -0.15039062 -0.00106049  0.03417969  0.03344727\n",
      "  0.19335938  0.01965332 -0.19921875 -0.10644531  0.01525879  0.00927734\n",
      "  0.01416016 -0.02392578  0.05883789  0.02368164  0.125       0.04760742\n",
      " -0.05566406  0.11572266  0.14746094  0.1015625  -0.07128906 -0.07714844\n",
      " -0.12597656  0.0291748   0.09521484 -0.12402344 -0.109375   -0.12890625\n",
      "  0.16308594  0.28320312 -0.03149414  0.12304688 -0.23242188 -0.09375\n",
      " -0.12988281  0.0135498  -0.03881836 -0.08251953  0.00897217  0.16308594\n",
      "  0.10546875 -0.13867188 -0.16503906 -0.03857422  0.10839844 -0.10498047\n",
      "  0.06396484  0.38867188 -0.05981445 -0.0612793  -0.10449219 -0.16796875\n",
      "  0.07177734  0.13964844  0.15527344 -0.03125    -0.20214844 -0.12988281\n",
      " -0.10058594 -0.06396484 -0.08349609 -0.30273438 -0.08007812  0.02099609]\n"
     ]
    }
   ],
   "source": [
    "print(vector_man)"
   ]
  },
  {
   "cell_type": "code",
   "execution_count": 7,
   "id": "3a56f168",
   "metadata": {},
   "outputs": [
    {
     "data": {
      "text/plain": [
       "(300,)"
      ]
     },
     "execution_count": 7,
     "metadata": {},
     "output_type": "execute_result"
    }
   ],
   "source": [
    "vector_man.shape"
   ]
  },
  {
   "cell_type": "code",
   "execution_count": 15,
   "id": "6913f199",
   "metadata": {},
   "outputs": [
    {
     "data": {
      "text/plain": [
       "[('boy', 0.8543271422386169),\n",
       " ('teenage_girl', 0.7927975654602051),\n",
       " ('woman', 0.7494640946388245),\n",
       " ('teenager', 0.717249870300293),\n",
       " ('schoolgirl', 0.7075953483581543),\n",
       " ('teenaged_girl', 0.6650916337966919),\n",
       " ('daughter', 0.6489864587783813),\n",
       " ('mother', 0.6478164196014404),\n",
       " ('toddler', 0.6473967432975769),\n",
       " ('girls', 0.6154742240905762)]"
      ]
     },
     "execution_count": 15,
     "metadata": {},
     "output_type": "execute_result"
    }
   ],
   "source": [
    "wv.most_similar('girl')"
   ]
  },
  {
   "cell_type": "code",
   "execution_count": 16,
   "id": "67b75778",
   "metadata": {},
   "outputs": [
    {
     "data": {
      "text/plain": [
       "[('glad', 0.7408890724182129),\n",
       " ('pleased', 0.6632170677185059),\n",
       " ('ecstatic', 0.6626912355422974),\n",
       " ('overjoyed', 0.6599286794662476),\n",
       " ('thrilled', 0.6514049172401428),\n",
       " ('satisfied', 0.6437949538230896),\n",
       " ('proud', 0.636042058467865),\n",
       " ('delighted', 0.6272379159927368),\n",
       " ('disappointed', 0.6269949674606323),\n",
       " ('excited', 0.6247665882110596)]"
      ]
     },
     "execution_count": 16,
     "metadata": {},
     "output_type": "execute_result"
    }
   ],
   "source": [
    "wv.most_similar('happy')\n",
    "\n",
    "# It results in the words that are more similar to the given word"
   ]
  },
  {
   "cell_type": "code",
   "execution_count": 18,
   "id": "63c5e045",
   "metadata": {},
   "outputs": [
    {
     "data": {
      "text/plain": [
       "0.8543272"
      ]
     },
     "execution_count": 18,
     "metadata": {},
     "output_type": "execute_result"
    }
   ],
   "source": [
    "wv.similarity('girl','boy')\n",
    "\n",
    "# This results with a statistic, that shows how much similarity the given names are\n",
    "# The statistic closer to 1 tells they are more similar and vice versa"
   ]
  },
  {
   "cell_type": "code",
   "execution_count": 12,
   "id": "a60b94b3",
   "metadata": {},
   "outputs": [
    {
     "data": {
      "text/plain": [
       "0.17236945"
      ]
     },
     "execution_count": 12,
     "metadata": {},
     "output_type": "execute_result"
    }
   ],
   "source": [
    "wv.similarity('girl','king')"
   ]
  },
  {
   "cell_type": "code",
   "execution_count": 13,
   "id": "fbf4ddab",
   "metadata": {},
   "outputs": [
    {
     "data": {
      "text/plain": [
       "0.1415638"
      ]
     },
     "execution_count": 13,
     "metadata": {},
     "output_type": "execute_result"
    }
   ],
   "source": [
    "wv.similarity('shiva','india')"
   ]
  },
  {
   "cell_type": "code",
   "execution_count": 14,
   "id": "9c298987",
   "metadata": {},
   "outputs": [
    {
     "data": {
      "text/plain": [
       "[('shivah', 0.512107253074646),\n",
       " ('chassid', 0.5011586546897888),\n",
       " ('davened', 0.488434374332428),\n",
       " ('davening', 0.4837031364440918),\n",
       " ('Erev', 0.48162972927093506),\n",
       " ('shabbos', 0.4807605743408203),\n",
       " ('Kenneth_Feld_responds', 0.47420305013656616),\n",
       " ('sitting_shiva', 0.4737938940525055),\n",
       " (\"Tisha_B'av\", 0.4711964726448059),\n",
       " ('Cheshvan', 0.4658653140068054)]"
      ]
     },
     "execution_count": 14,
     "metadata": {},
     "output_type": "execute_result"
    }
   ],
   "source": [
    "wv.most_similar('shiva')"
   ]
  },
  {
   "cell_type": "code",
   "execution_count": null,
   "id": "ceb497b0",
   "metadata": {},
   "outputs": [],
   "source": []
  }
 ],
 "metadata": {
  "kernelspec": {
   "display_name": "base",
   "language": "python",
   "name": "python3"
  },
  "language_info": {
   "codemirror_mode": {
    "name": "ipython",
    "version": 3
   },
   "file_extension": ".py",
   "mimetype": "text/x-python",
   "name": "python",
   "nbconvert_exporter": "python",
   "pygments_lexer": "ipython3",
   "version": "3.12.7"
  }
 },
 "nbformat": 4,
 "nbformat_minor": 5
}
