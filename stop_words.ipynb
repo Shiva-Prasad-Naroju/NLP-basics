{
 "cells": [
  {
   "cell_type": "markdown",
   "id": "593e5676",
   "metadata": {},
   "source": [
    "## Stop Words:"
   ]
  },
  {
   "cell_type": "markdown",
   "id": "6ca58743",
   "metadata": {},
   "source": [
    "#### Stop words are common words (like \"and,\" \"the,\" \"is\") that usually carry little meaningful information and are often removed from text during NLP preprocessing."
   ]
  },
  {
   "cell_type": "code",
   "execution_count": 3,
   "id": "86835cdf",
   "metadata": {},
   "outputs": [
    {
     "name": "stderr",
     "output_type": "stream",
     "text": [
      "[nltk_data] Downloading package stopwords to\n",
      "[nltk_data]     C:\\Users\\DELL\\AppData\\Roaming\\nltk_data...\n",
      "[nltk_data]   Unzipping corpora\\stopwords.zip.\n",
      "[nltk_data] Downloading package punkt to\n",
      "[nltk_data]     C:\\Users\\DELL\\AppData\\Roaming\\nltk_data...\n",
      "[nltk_data]   Package punkt is already up-to-date!\n"
     ]
    },
    {
     "data": {
      "text/plain": [
       "True"
      ]
     },
     "execution_count": 3,
     "metadata": {},
     "output_type": "execute_result"
    }
   ],
   "source": [
    "import nltk\n",
    "from nltk.corpus import stopwords\n",
    "from nltk.tokenize import word_tokenize\n",
    "\n",
    "nltk.download(\"stopwords\")\n",
    "nltk.download(\"punkt\")"
   ]
  },
  {
   "cell_type": "code",
   "execution_count": 13,
   "id": "52e77e22",
   "metadata": {},
   "outputs": [],
   "source": [
    "text = \"Im Shiva Prasad Naroju, **and** working on AIML projects, To solve **all** the real world problems, @#$ i've been working relentlessly **but** sometimes face challenges.\""
   ]
  },
  {
   "cell_type": "code",
   "execution_count": 20,
   "id": "7993d949",
   "metadata": {},
   "outputs": [
    {
     "name": "stdout",
     "output_type": "stream",
     "text": [
      "Filtered words ['Im', 'Shiva', 'Prasad', 'Naroju', ',', '*', '*', '*', '*', 'working', 'AIML', 'projects', ',', 'solve', '*', '*', '*', '*', 'real', 'world', 'problems', ',', '@', '#', '$', \"'ve\", 'working', 'relentlessly', '*', '*', '*', '*', 'sometimes', 'face', 'challenges', '.']\n",
      "Removed words ['and', 'on', 'To', 'all', 'the', 'i', 'been', 'but']\n"
     ]
    }
   ],
   "source": [
    "stop_words = set(stopwords.words('english'))\n",
    "words = word_tokenize(text)\n",
    "\n",
    "filtered_words = [i for i in words if i.lower() not in stop_words]\n",
    "removed_words = [i for i in words if i.lower() in stop_words]\n",
    "\n",
    "print(\"Filtered words\", filtered_words)\n",
    "print(\"Removed words\", removed_words)"
   ]
  },
  {
   "cell_type": "markdown",
   "id": "f91fe684",
   "metadata": {},
   "source": [
    "#### Add custom stop words dynamically:"
   ]
  },
  {
   "cell_type": "code",
   "execution_count": 22,
   "id": "d3ace242",
   "metadata": {},
   "outputs": [
    {
     "name": "stdout",
     "output_type": "stream",
     "text": [
      "['Im', 'Shiva', 'Prasad', 'Naroju', ',', '*', '*', '*', '*', 'working', 'AIML', 'projects', ',', 'solve', '*', '*', '*', '*', 'real', 'world', 'problems', ',', '@', '#', '$', \"'ve\", 'working', 'relentlessly', '*', '*', '*', '*', 'sometimes', 'face', 'challenges', '.']\n"
     ]
    }
   ],
   "source": [
    "custom_stops = {'project', 'problem'}\n",
    "stop_words.update(custom_stops)\n",
    "filtered_words_with_custome_stops = [i for i in words if i.lower() not in stop_words]\n",
    "\n",
    "print(filtered_words_with_custome_stops)\n",
    "\n",
    "# \"project\" and \"problem\" words won't be displayed in the output."
   ]
  },
  {
   "cell_type": "code",
   "execution_count": null,
   "id": "e9725b5b",
   "metadata": {},
   "outputs": [],
   "source": []
  },
  {
   "cell_type": "markdown",
   "id": "5f671bc6",
   "metadata": {},
   "source": [
    "#### Stop words removal simplifies text by filtering out common, insignificant words, improving model efficiency and focus on meaningful content. It’s a fundamental and easy step that boosts NLP performance across applications."
   ]
  },
  {
   "cell_type": "code",
   "execution_count": null,
   "id": "f6d34585",
   "metadata": {},
   "outputs": [],
   "source": []
  },
  {
   "cell_type": "code",
   "execution_count": null,
   "id": "25f9bfa0",
   "metadata": {},
   "outputs": [],
   "source": []
  }
 ],
 "metadata": {
  "kernelspec": {
   "display_name": "base",
   "language": "python",
   "name": "python3"
  },
  "language_info": {
   "codemirror_mode": {
    "name": "ipython",
    "version": 3
   },
   "file_extension": ".py",
   "mimetype": "text/x-python",
   "name": "python",
   "nbconvert_exporter": "python",
   "pygments_lexer": "ipython3",
   "version": "3.12.7"
  }
 },
 "nbformat": 4,
 "nbformat_minor": 5
}
