{
 "cells": [
  {
   "cell_type": "markdown",
   "id": "a306b917",
   "metadata": {},
   "source": [
    "# Lemmatization:"
   ]
  },
  {
   "cell_type": "markdown",
   "id": "b2f4414a",
   "metadata": {},
   "source": [
    "#### Lemmatization reduces words to their dictionary (base) form called a lemma, considering context and part of speech"
   ]
  },
  {
   "cell_type": "code",
   "execution_count": 5,
   "id": "fc2bc5f3",
   "metadata": {},
   "outputs": [
    {
     "name": "stderr",
     "output_type": "stream",
     "text": [
      "[nltk_data] Downloading package wordnet to\n",
      "[nltk_data]     C:\\Users\\DELL\\AppData\\Roaming\\nltk_data...\n",
      "[nltk_data] Downloading package omw-1.4 to\n",
      "[nltk_data]     C:\\Users\\DELL\\AppData\\Roaming\\nltk_data...\n"
     ]
    }
   ],
   "source": [
    "import nltk\n",
    "from nltk.stem import WordNetLemmatizer\n",
    "\n",
    "nltk.download('wordnet')\n",
    "nltk.download('omw-1.4')  # For better lemmatization support\n",
    "\n",
    "lemmatizer = WordNetLemmatizer()"
   ]
  },
  {
   "cell_type": "code",
   "execution_count": 9,
   "id": "827597d3",
   "metadata": {},
   "outputs": [],
   "source": [
    "# pos stands for Parts of Speech, this is the parameter for the lemmtizer, so that based on that results will be given.\n",
    "\n",
    "# The default pos for the lemmatizer is \"n\""
   ]
  },
  {
   "cell_type": "code",
   "execution_count": 8,
   "id": "2215e150",
   "metadata": {},
   "outputs": [
    {
     "name": "stdout",
     "output_type": "stream",
     "text": [
      "run\n",
      "run\n",
      "good\n",
      "mouse\n",
      "leaf\n",
      "study\n"
     ]
    }
   ],
   "source": [
    "print(lemmatizer.lemmatize(\"ran\", \"v\"))\n",
    "print(lemmatizer.lemmatize(\"running\", pos='v'))   # run\n",
    "print(lemmatizer.lemmatize(\"better\", pos='a'))    # good\n",
    "print(lemmatizer.lemmatize(\"mice\"))                # mouse (default pos = noun)\n",
    "print(lemmatizer.lemmatize(\"leaves\"))              # leaf\n",
    "print(lemmatizer.lemmatize(\"studies\", pos='v'))    # study"
   ]
  },
  {
   "cell_type": "code",
   "execution_count": 10,
   "id": "96d61ad9",
   "metadata": {},
   "outputs": [
    {
     "name": "stdout",
     "output_type": "stream",
     "text": [
      "=== Verb Forms ===\n",
      "running -> run\n",
      "ran -> run\n",
      "runs -> run\n",
      "\n",
      "=== Plural Nouns ===\n",
      "mice -> mouse\n",
      "leaves -> leaf\n",
      "geese -> goose\n",
      "\n",
      "=== Adjectives ===\n",
      "better -> good\n",
      "best -> best\n",
      "worse -> bad\n",
      "\n",
      "=== Context Sensitive (noun vs verb) ===\n",
      "saw (verb) -> saw\n",
      "saw (noun) -> saw\n",
      "\n",
      "=== Irregular Forms ===\n",
      "children -> child\n",
      "went -> went\n"
     ]
    }
   ],
   "source": [
    "words = {\n",
    "    \"verbs\": [\"running\", \"ran\", \"runs\"],\n",
    "    \"nouns_plural\": [\"mice\", \"leaves\", \"geese\"],\n",
    "    \"adjectives\": [\"better\", \"best\", \"worse\"],\n",
    "    \"context_sensitive\": [\"saw\"],\n",
    "    \"irregular\": [\"children\", \"went\"]\n",
    "}\n",
    "\n",
    "print(\"=== Verb Forms ===\")\n",
    "for w in words[\"verbs\"]:\n",
    "    print(f\"{w} -> {lemmatizer.lemmatize(w, pos='v')}\")\n",
    "\n",
    "print(\"\\n=== Plural Nouns ===\")\n",
    "for w in words[\"nouns_plural\"]:\n",
    "    print(f\"{w} -> {lemmatizer.lemmatize(w, pos='n')}\")\n",
    "\n",
    "print(\"\\n=== Adjectives ===\")\n",
    "for w in words[\"adjectives\"]:\n",
    "    print(f\"{w} -> {lemmatizer.lemmatize(w, pos='a')}\")\n",
    "\n",
    "print(\"\\n=== Context Sensitive (noun vs verb) ===\")\n",
    "print(f\"saw (verb) -> {lemmatizer.lemmatize('saw', pos='v')}\")\n",
    "print(f\"saw (noun) -> {lemmatizer.lemmatize('saw', pos='n')}\")\n",
    "\n",
    "print(\"\\n=== Irregular Forms ===\")\n",
    "for w in words[\"irregular\"]:\n",
    "    print(f\"{w} -> {lemmatizer.lemmatize(w)}\")\n"
   ]
  },
  {
   "cell_type": "markdown",
   "id": "d5dc4488",
   "metadata": {},
   "source": [
    "### Conclusion:"
   ]
  },
  {
   "cell_type": "markdown",
   "id": "57c2bb41",
   "metadata": {},
   "source": [
    "#### Lemmatization converts words to their correct base forms using context, unlike stemming’s rough suffix removal. This leads to more accurate and meaningful text processing in NLP tasks."
   ]
  },
  {
   "cell_type": "code",
   "execution_count": null,
   "id": "7c40459c",
   "metadata": {},
   "outputs": [],
   "source": []
  }
 ],
 "metadata": {
  "kernelspec": {
   "display_name": "base",
   "language": "python",
   "name": "python3"
  },
  "language_info": {
   "codemirror_mode": {
    "name": "ipython",
    "version": 3
   },
   "file_extension": ".py",
   "mimetype": "text/x-python",
   "name": "python",
   "nbconvert_exporter": "python",
   "pygments_lexer": "ipython3",
   "version": "3.12.7"
  }
 },
 "nbformat": 4,
 "nbformat_minor": 5
}
