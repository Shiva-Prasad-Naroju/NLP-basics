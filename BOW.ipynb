{
 "cells": [
  {
   "cell_type": "markdown",
   "id": "ca210e86",
   "metadata": {},
   "source": [
    "## BAG OF WORDS:"
   ]
  },
  {
   "cell_type": "markdown",
   "id": "73a1bb11",
   "metadata": {},
   "source": [
    "Bag of Words (BoW) is a text representation technique that converts text into numerical features by counting how often each word appears, ignoring grammar and word order."
   ]
  },
  {
   "cell_type": "code",
   "execution_count": 1,
   "metadata": {},
   "outputs": [],
   "source": [
    "from sklearn.feature_extraction.text import CountVectorizer"
   ]
  },
  {
   "cell_type": "code",
   "execution_count": 2,
   "metadata": {},
   "outputs": [],
   "source": [
    "corpus = [\n",
    "    \"I am learning Natural Language Processing\",\n",
    "    \"Natural Language Processing is a subfield of AI\",\n",
    "    \"I enjoy working on NLP projects to solve real-world problems\"\n",
    "]"
   ]
  },
  {
   "cell_type": "code",
   "execution_count": 3,
   "metadata": {},
   "outputs": [],
   "source": [
    "# Initializing the Count Vectorizer\n",
    "cv = CountVectorizer()"
   ]
  },
  {
   "cell_type": "code",
   "execution_count": 4,
   "id": "1cc7b643",
   "metadata": {},
   "outputs": [],
   "source": [
    "# Fit and transform the corpus\n",
    "X = cv.fit_transform(corpus)"
   ]
  },
  {
   "cell_type": "code",
   "execution_count": 8,
   "id": "8bf4847a",
   "metadata": {},
   "outputs": [
    {
     "data": {
      "text/plain": [
       "array(['ai', 'am', 'enjoy', 'is', 'language', 'learning', 'natural',\n",
       "       'nlp', 'of', 'on', 'problems', 'processing', 'projects', 'real',\n",
       "       'solve', 'subfield', 'to', 'working', 'world'], dtype=object)"
      ]
     },
     "execution_count": 8,
     "metadata": {},
     "output_type": "execute_result"
    }
   ],
   "source": [
    "vocabs = cv.get_feature_names_out()\n",
    "vocabs"
   ]
  },
  {
   "cell_type": "code",
   "execution_count": 9,
   "id": "03d252ac",
   "metadata": {},
   "outputs": [
    {
     "data": {
      "text/plain": [
       "array([[0, 1, 0, 0, 1, 1, 1, 0, 0, 0, 0, 1, 0, 0, 0, 0, 0, 0, 0],\n",
       "       [1, 0, 0, 1, 1, 0, 1, 0, 1, 0, 0, 1, 0, 0, 0, 1, 0, 0, 0],\n",
       "       [0, 0, 1, 0, 0, 0, 0, 1, 0, 1, 1, 0, 1, 1, 1, 0, 1, 1, 1]],\n",
       "      dtype=int64)"
      ]
     },
     "execution_count": 9,
     "metadata": {},
     "output_type": "execute_result"
    }
   ],
   "source": [
    "X.toarray()"
   ]
  },
  {
   "cell_type": "markdown",
   "id": "43ea071f",
   "metadata": {},
   "source": [
    "#### Adding stop words to the bag of words:"
   ]
  },
  {
   "cell_type": "code",
   "execution_count": 12,
   "id": "f5b392c4",
   "metadata": {},
   "outputs": [],
   "source": [
    "cv_with_stop_words = CountVectorizer(stop_words='english')\n",
    "X1 = cv_with_stop_words.fit_transform(corpus).toarray()"
   ]
  },
  {
   "cell_type": "code",
   "execution_count": 21,
   "id": "f6dfa610",
   "metadata": {},
   "outputs": [
    {
     "data": {
      "text/plain": [
       "array(['ai', 'enjoy', 'language', 'learning', 'natural', 'nlp',\n",
       "       'problems', 'processing', 'projects', 'real', 'solve', 'subfield',\n",
       "       'working', 'world'], dtype=object)"
      ]
     },
     "execution_count": 21,
     "metadata": {},
     "output_type": "execute_result"
    }
   ],
   "source": [
    "vocabs1 = cv_with_stop_words.get_feature_names_out()\n",
    "vocabs1"
   ]
  },
  {
   "cell_type": "code",
   "execution_count": 22,
   "id": "c9721553",
   "metadata": {},
   "outputs": [
    {
     "name": "stdout",
     "output_type": "stream",
     "text": [
      "Length of the vocabulary  : 19\n",
      "Length of the vocabulary : 14\n"
     ]
    }
   ],
   "source": [
    "# Length of vocabulary:\n",
    "print(f\"Length of the vocabulary  : {len(vocabs)}\")\n",
    "print(f\"Length of the vocabulary : {len(vocabs1)}\")"
   ]
  },
  {
   "cell_type": "markdown",
   "id": "42fc6c2c",
   "metadata": {},
   "source": [
    "#### Count Vectorizer with max_features in the vocab"
   ]
  },
  {
   "cell_type": "code",
   "execution_count": 19,
   "id": "4d605559",
   "metadata": {},
   "outputs": [],
   "source": [
    "cv_with_max_feats = CountVectorizer(max_features=10)"
   ]
  },
  {
   "cell_type": "code",
   "execution_count": 23,
   "id": "595f6f46",
   "metadata": {},
   "outputs": [],
   "source": [
    "X2 = cv_with_max_feats.fit_transform(corpus).toarray()\n",
    "vocabs3 = cv_with_max_feats.get_feature_names_out()"
   ]
  },
  {
   "cell_type": "code",
   "execution_count": 27,
   "id": "c7abf115",
   "metadata": {},
   "outputs": [
    {
     "name": "stdout",
     "output_type": "stream",
     "text": [
      "Length of the vocabulary with max_features: 10\n"
     ]
    }
   ],
   "source": [
    "print(f\"Length of the vocabulary with max_features: {len(vocabs3)}\")"
   ]
  },
  {
   "cell_type": "code",
   "execution_count": null,
   "id": "37150863",
   "metadata": {},
   "outputs": [],
   "source": []
  },
  {
   "cell_type": "code",
   "execution_count": null,
   "id": "dfb78dda",
   "metadata": {},
   "outputs": [],
   "source": []
  }
 ],
 "metadata": {
  "kernelspec": {
   "display_name": "base",
   "language": "python",
   "name": "python3"
  },
  "language_info": {
   "codemirror_mode": {
    "name": "ipython",
    "version": 3
   },
   "file_extension": ".py",
   "mimetype": "text/x-python",
   "name": "python",
   "nbconvert_exporter": "python",
   "pygments_lexer": "ipython3",
   "version": "3.12.7"
  }
 },
 "nbformat": 4,
 "nbformat_minor": 5
}
