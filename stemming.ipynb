{
 "cells": [
  {
   "cell_type": "markdown",
   "id": "5e7773a8",
   "metadata": {},
   "source": [
    "# Stemming"
   ]
  },
  {
   "cell_type": "markdown",
   "id": "cb9da1dc",
   "metadata": {},
   "source": [
    "#### Stemming in NLP is the process of reducing words to their base or root form by chopping off suffixes."
   ]
  },
  {
   "cell_type": "code",
   "execution_count": 2,
   "id": "c535429d",
   "metadata": {},
   "outputs": [],
   "source": [
    "# There are different types of stemmers to use, but the mostly used ones are PorterStemmer and SnowballStemmer\n",
    "from nltk.stem import PorterStemmer, SnowballStemmer\n",
    "\n",
    "ps = PorterStemmer()\n",
    "ss = SnowballStemmer('english')"
   ]
  },
  {
   "cell_type": "markdown",
   "id": "17175b96",
   "metadata": {},
   "source": [
    "#### 1. Basic words"
   ]
  },
  {
   "cell_type": "code",
   "execution_count": 12,
   "id": "00ecce76",
   "metadata": {},
   "outputs": [
    {
     "name": "stdout",
     "output_type": "stream",
     "text": [
      "Porter: ['learn', 'learn', 'learn', 'project', 'practition', 'practic']\n",
      "Snowball: ['learn', 'learn', 'learn', 'project', 'practition', 'practic']\n"
     ]
    }
   ],
   "source": [
    "words1 = [\"learning\", \"learned\", \"learns\", \"projects\", \"practitioner\", \"practicing\"]\n",
    "print(\"Porter:\", [ps.stem(w) for w in words1])\n",
    "print(\"Snowball:\", [ss.stem(w) for w in words1])"
   ]
  },
  {
   "cell_type": "markdown",
   "id": "b5caba9a",
   "metadata": {},
   "source": [
    "#### 2. Words with Suffixes and Prefixes"
   ]
  },
  {
   "cell_type": "code",
   "execution_count": 13,
   "id": "fc3129b1",
   "metadata": {},
   "outputs": [
    {
     "name": "stdout",
     "output_type": "stream",
     "text": [
      "Porter: ['autom', 'autom', 'autom', 'autom', 'automat']\n",
      "Snowball: ['autom', 'autom', 'autom', 'autom', 'automat']\n"
     ]
    }
   ],
   "source": [
    "words2 = [\"automation\", \"automate\", \"automated\", \"automating\", \"automatically\"]\n",
    "\n",
    "print(\"Porter:\", [ps.stem(w) for w in words2])\n",
    "print(\"Snowball:\", [ss.stem(w) for w in words2])"
   ]
  },
  {
   "cell_type": "markdown",
   "id": "955198ff",
   "metadata": {},
   "source": [
    "#### 3. Compound Words & Hyphenated Terms"
   ]
  },
  {
   "cell_type": "code",
   "execution_count": 14,
   "id": "a608f1ce",
   "metadata": {},
   "outputs": [
    {
     "name": "stdout",
     "output_type": "stream",
     "text": [
      "Porter: ['deep-learn', 'state-of-the-art', 'pre-train', 'fine-tun']\n",
      "Snowball: ['deep-learn', 'state-of-the-art', 'pre-train', 'fine-tun']\n"
     ]
    }
   ],
   "source": [
    "words3 = [\"deep-learning\", \"state-of-the-art\", \"pre-trained\", \"fine-tuning\"]\n",
    "\n",
    "print(\"Porter:\", [ps.stem(w) for w in words3])\n",
    "print(\"Snowball:\", [ss.stem(w) for w in words3])"
   ]
  },
  {
   "cell_type": "markdown",
   "id": "c50cbbe5",
   "metadata": {},
   "source": [
    "#### 4. Words with Special Characters & Numbers"
   ]
  },
  {
   "cell_type": "code",
   "execution_count": 15,
   "id": "fb7cc84d",
   "metadata": {},
   "outputs": [
    {
     "name": "stdout",
     "output_type": "stream",
     "text": [
      "Porter: ['yolov8', 'ai/ml', 'neuroimaging2024', 'data-driven']\n",
      "Snowball: ['yolov8', 'ai/ml', 'neuroimaging2024', 'data-driven']\n"
     ]
    }
   ],
   "source": [
    "words4 = [\"YOLOv8\", \"AI/ML\", \"neuroimaging2024\", \"data-driven\"]\n",
    "\n",
    "print(\"Porter:\", [ps.stem(w) for w in words4])\n",
    "print(\"Snowball:\", [ss.stem(w) for w in words4])"
   ]
  },
  {
   "cell_type": "markdown",
   "id": "24edec8c",
   "metadata": {},
   "source": [
    "#### 5. Adjectives and Comparative Forms"
   ]
  },
  {
   "cell_type": "code",
   "execution_count": 16,
   "id": "429790d5",
   "metadata": {},
   "outputs": [
    {
     "name": "stdout",
     "output_type": "stream",
     "text": [
      "Porter: ['better', 'best', 'faster', 'fastest', 'larger', 'largest']\n",
      "Snowball: ['better', 'best', 'faster', 'fastest', 'larger', 'largest']\n"
     ]
    }
   ],
   "source": [
    "words5 = [\"better\", \"best\", \"faster\", \"fastest\", \"larger\", \"largest\"]\n",
    "\n",
    "print(\"Porter:\", [ps.stem(w) for w in words5])\n",
    "print(\"Snowball:\", [ss.stem(w) for w in words5])\n"
   ]
  },
  {
   "cell_type": "markdown",
   "id": "ac4c7888",
   "metadata": {},
   "source": [
    "#### 6. Verbs in Different Forms"
   ]
  },
  {
   "cell_type": "code",
   "execution_count": 17,
   "id": "c1af2781",
   "metadata": {},
   "outputs": [
    {
     "name": "stdout",
     "output_type": "stream",
     "text": [
      "Porter: ['work', 'work', 'work', 'run', 'run']\n",
      "Snowball: ['work', 'work', 'work', 'run', 'run']\n"
     ]
    }
   ],
   "source": [
    "words6 = [\"working\", \"worked\", \"works\", \"runs\", \"running\"]\n",
    "\n",
    "print(\"Porter:\", [ps.stem(w) for w in words6])\n",
    "print(\"Snowball:\", [ss.stem(w) for w in words6])\n"
   ]
  },
  {
   "cell_type": "markdown",
   "id": "d317dff4",
   "metadata": {},
   "source": [
    "## Conclusion:"
   ]
  },
  {
   "cell_type": "markdown",
   "id": "8be36947",
   "metadata": {},
   "source": [
    "##### Porter Stemmer : Simple and widely used, but may over-stem sometimes.\n",
    "##### Snowball Stemmer : Improved version of Porter, more accurate and flexible."
   ]
  },
  {
   "cell_type": "code",
   "execution_count": null,
   "id": "225fde60",
   "metadata": {},
   "outputs": [],
   "source": []
  },
  {
   "cell_type": "code",
   "execution_count": null,
   "id": "1a1f957c",
   "metadata": {},
   "outputs": [],
   "source": []
  }
 ],
 "metadata": {
  "kernelspec": {
   "display_name": "base",
   "language": "python",
   "name": "python3"
  },
  "language_info": {
   "codemirror_mode": {
    "name": "ipython",
    "version": 3
   },
   "file_extension": ".py",
   "mimetype": "text/x-python",
   "name": "python",
   "nbconvert_exporter": "python",
   "pygments_lexer": "ipython3",
   "version": "3.12.7"
  }
 },
 "nbformat": 4,
 "nbformat_minor": 5
}
