{
 "cells": [
  {
   "cell_type": "markdown",
   "id": "b83a126a",
   "metadata": {},
   "source": [
    "### N-Grams"
   ]
  },
  {
   "cell_type": "markdown",
   "id": "edd11047",
   "metadata": {},
   "source": [
    "N-gram is a sequence of N consecutive words or characters from a given text.\n",
    "It's used in Natural Language Processing (NLP) to analyze the context or structure of language."
   ]
  },
  {
   "cell_type": "code",
   "execution_count": 1,
   "id": "d6b870d3",
   "metadata": {},
   "outputs": [],
   "source": [
    "from sklearn.feature_extraction.text import CountVectorizer\n",
    "import nltk"
   ]
  },
  {
   "cell_type": "code",
   "execution_count": 7,
   "id": "226b8b39",
   "metadata": {},
   "outputs": [],
   "source": [
    "# Text for implementing the n gram\n",
    "corpus = [\"Artificial Intelligence is transforming the way we interact with technology. From voice assistants to self-driving cars, AI is making machines smarter and more capable. Natural Language Processing, a branch of AI, focuses on enabling computers to understand and generate human language effectively. It powers applications like chatbots, language translation, sentiment analysis, and speech recognition. As the field evolves, N-gram models remain a foundational concept for analyzing and predicting word sequences in text.\"]"
   ]
  },
  {
   "cell_type": "markdown",
   "id": "ffd93e2d",
   "metadata": {},
   "source": [
    "#### Unigram"
   ]
  },
  {
   "cell_type": "code",
   "execution_count": 8,
   "id": "2d80550b",
   "metadata": {},
   "outputs": [],
   "source": [
    "# For Binary BOW enable Binary=True\n",
    "\n",
    "cv = CountVectorizer(binary=True, max_features=50, ngram_range=(1,1))\n",
    "\n",
    "# Try changing the ngram_range= (1,2) / (1,3) / (2,1) / (2,2) for better accuracy\n"
   ]
  },
  {
   "cell_type": "code",
   "execution_count": 9,
   "id": "3908ffad",
   "metadata": {},
   "outputs": [],
   "source": [
    "X = cv.fit_transform(corpus).toarray()"
   ]
  },
  {
   "cell_type": "code",
   "execution_count": 13,
   "id": "e11532b3",
   "metadata": {},
   "outputs": [
    {
     "name": "stdout",
     "output_type": "stream",
     "text": [
      "The length of the vocabulary :  50\n"
     ]
    },
    {
     "data": {
      "text/plain": [
       "{'artificial': 5,\n",
       " 'is': 18,\n",
       " 'transforming': 43,\n",
       " 'the': 41,\n",
       " 'way': 47,\n",
       " 'we': 48,\n",
       " 'with': 49,\n",
       " 'technology': 39,\n",
       " 'voice': 46,\n",
       " 'assistants': 7,\n",
       " 'to': 42,\n",
       " 'self': 34,\n",
       " 'driving': 14,\n",
       " 'cars': 10,\n",
       " 'ai': 0,\n",
       " 'making': 23,\n",
       " 'machines': 22,\n",
       " 'smarter': 37,\n",
       " 'and': 3,\n",
       " 'more': 25,\n",
       " 'capable': 9,\n",
       " 'natural': 26,\n",
       " 'language': 20,\n",
       " 'processing': 31,\n",
       " 'branch': 8,\n",
       " 'of': 27,\n",
       " 'on': 28,\n",
       " 'enabling': 15,\n",
       " 'computers': 12,\n",
       " 'understand': 45,\n",
       " 'it': 19,\n",
       " 'powers': 29,\n",
       " 'applications': 4,\n",
       " 'like': 21,\n",
       " 'chatbots': 11,\n",
       " 'translation': 44,\n",
       " 'sentiment': 35,\n",
       " 'analysis': 1,\n",
       " 'speech': 38,\n",
       " 'recognition': 32,\n",
       " 'as': 6,\n",
       " 'field': 17,\n",
       " 'evolves': 16,\n",
       " 'models': 24,\n",
       " 'remain': 33,\n",
       " 'concept': 13,\n",
       " 'analyzing': 2,\n",
       " 'predicting': 30,\n",
       " 'sequences': 36,\n",
       " 'text': 40}"
      ]
     },
     "execution_count": 13,
     "metadata": {},
     "output_type": "execute_result"
    }
   ],
   "source": [
    "# This results the unigram, which means there is only one combination\n",
    "print(\"The length of the vocabulary : \",len(cv.vocabulary_))\n",
    "cv.vocabulary_"
   ]
  },
  {
   "cell_type": "code",
   "execution_count": 16,
   "id": "74daef23",
   "metadata": {},
   "outputs": [
    {
     "name": "stdout",
     "output_type": "stream",
     "text": [
      "[1 1 1 1 1 1 1 1 1 1 1 1 1 1 1 1 1 1 1 1 1 1 1 1 1 1 1 1 1 1 1 1 1 1 1 1 1\n",
      " 1 1 1 1 1 1 1 1 1 1 1 1 1]\n"
     ]
    }
   ],
   "source": [
    "for i in X:\n",
    "    print(i)"
   ]
  },
  {
   "cell_type": "markdown",
   "id": "5630d76c",
   "metadata": {},
   "source": [
    "#### Bi-grams"
   ]
  },
  {
   "cell_type": "code",
   "execution_count": null,
   "id": "6fb1e9d9",
   "metadata": {},
   "outputs": [],
   "source": [
    "cv1 = CountVectorizer(binary=True, max_features=100, ngram_range=(1,2))"
   ]
  },
  {
   "cell_type": "code",
   "execution_count": 18,
   "id": "29327110",
   "metadata": {},
   "outputs": [],
   "source": [
    "X1 = cv1.fit_transform(corpus).toarray()"
   ]
  },
  {
   "cell_type": "code",
   "execution_count": 23,
   "id": "42522e18",
   "metadata": {},
   "outputs": [
    {
     "name": "stdout",
     "output_type": "stream",
     "text": [
      "The length of vocabulary :  100\n"
     ]
    },
    {
     "data": {
      "text/plain": [
       "{'artificial': 14,\n",
       " 'transforming': 86,\n",
       " 'the': 80,\n",
       " 'way': 94,\n",
       " 'we': 96,\n",
       " 'with': 98,\n",
       " 'technology': 77,\n",
       " 'voice': 92,\n",
       " 'assistants': 18,\n",
       " 'to': 83,\n",
       " 'self': 67,\n",
       " 'driving': 32,\n",
       " 'cars': 24,\n",
       " 'ai': 0,\n",
       " 'making': 45,\n",
       " 'machines': 43,\n",
       " 'smarter': 73,\n",
       " 'and': 7,\n",
       " 'more': 49,\n",
       " 'capable': 22,\n",
       " 'natural': 51,\n",
       " 'language': 37,\n",
       " 'processing': 61,\n",
       " 'branch': 20,\n",
       " 'of': 53,\n",
       " 'on': 55,\n",
       " 'computers': 28,\n",
       " 'understand': 90,\n",
       " 'it': 35,\n",
       " 'powers': 57,\n",
       " 'applications': 12,\n",
       " 'like': 41,\n",
       " 'chatbots': 26,\n",
       " 'translation': 88,\n",
       " 'sentiment': 69,\n",
       " 'analysis': 3,\n",
       " 'speech': 75,\n",
       " 'recognition': 63,\n",
       " 'as': 16,\n",
       " 'models': 47,\n",
       " 'remain': 65,\n",
       " 'concept': 30,\n",
       " 'analyzing': 5,\n",
       " 'predicting': 59,\n",
       " 'sequences': 71,\n",
       " 'text': 79,\n",
       " 'artificial intelligence': 15,\n",
       " 'is transforming': 34,\n",
       " 'transforming the': 87,\n",
       " 'the way': 82,\n",
       " 'way we': 95,\n",
       " 'we interact': 97,\n",
       " 'with technology': 99,\n",
       " 'technology from': 78,\n",
       " 'voice assistants': 93,\n",
       " 'assistants to': 19,\n",
       " 'to self': 84,\n",
       " 'self driving': 68,\n",
       " 'driving cars': 33,\n",
       " 'cars ai': 25,\n",
       " 'ai is': 2,\n",
       " 'making machines': 46,\n",
       " 'machines smarter': 44,\n",
       " 'smarter and': 74,\n",
       " 'and more': 9,\n",
       " 'more capable': 50,\n",
       " 'capable natural': 23,\n",
       " 'natural language': 52,\n",
       " 'language processing': 39,\n",
       " 'processing branch': 62,\n",
       " 'branch of': 21,\n",
       " 'of ai': 54,\n",
       " 'ai focuses': 1,\n",
       " 'on enabling': 56,\n",
       " 'computers to': 29,\n",
       " 'to understand': 85,\n",
       " 'understand and': 91,\n",
       " 'and generate': 8,\n",
       " 'language effectively': 38,\n",
       " 'it powers': 36,\n",
       " 'powers applications': 58,\n",
       " 'applications like': 13,\n",
       " 'like chatbots': 42,\n",
       " 'chatbots language': 27,\n",
       " 'language translation': 40,\n",
       " 'translation sentiment': 89,\n",
       " 'sentiment analysis': 70,\n",
       " 'analysis and': 4,\n",
       " 'and speech': 11,\n",
       " 'speech recognition': 76,\n",
       " 'recognition as': 64,\n",
       " 'as the': 17,\n",
       " 'the field': 81,\n",
       " 'models remain': 48,\n",
       " 'remain foundational': 66,\n",
       " 'concept for': 31,\n",
       " 'analyzing and': 6,\n",
       " 'and predicting': 10,\n",
       " 'predicting word': 60,\n",
       " 'sequences in': 72}"
      ]
     },
     "execution_count": 23,
     "metadata": {},
     "output_type": "execute_result"
    }
   ],
   "source": [
    "# This results the Bigrams [Combination of two words]\n",
    "print(\"The length of vocabulary : \",len(cv1.vocabulary_))\n",
    "cv1.vocabulary_"
   ]
  },
  {
   "cell_type": "markdown",
   "id": "54c094e3",
   "metadata": {},
   "source": [
    "#### Tri-gram"
   ]
  },
  {
   "cell_type": "code",
   "execution_count": 24,
   "id": "47834429",
   "metadata": {},
   "outputs": [],
   "source": [
    "cv2 = CountVectorizer(binary=True, max_features=150, ngram_range=(1,3))"
   ]
  },
  {
   "cell_type": "code",
   "execution_count": 25,
   "id": "0c5fe772",
   "metadata": {},
   "outputs": [],
   "source": [
    "X2 = cv2.fit_transform(corpus).toarray()"
   ]
  },
  {
   "cell_type": "code",
   "execution_count": 27,
   "id": "308baedd",
   "metadata": {},
   "outputs": [
    {
     "name": "stdout",
     "output_type": "stream",
     "text": [
      "The length of the vocabulary :  150\n"
     ]
    },
    {
     "data": {
      "text/plain": [
       "{'artificial': 23,\n",
       " 'transforming': 127,\n",
       " 'the': 117,\n",
       " 'way': 139,\n",
       " 'we': 142,\n",
       " 'with': 145,\n",
       " 'technology': 113,\n",
       " 'voice': 136,\n",
       " 'assistants': 29,\n",
       " 'to': 122,\n",
       " 'self': 98,\n",
       " 'cars': 38,\n",
       " 'ai': 0,\n",
       " 'making': 65,\n",
       " 'machines': 62,\n",
       " 'smarter': 107,\n",
       " 'and': 11,\n",
       " 'more': 71,\n",
       " 'capable': 35,\n",
       " 'natural': 74,\n",
       " 'language': 52,\n",
       " 'processing': 89,\n",
       " 'branch': 32,\n",
       " 'of': 77,\n",
       " 'on': 80,\n",
       " 'computers': 44,\n",
       " 'understand': 133,\n",
       " 'powers': 83,\n",
       " 'applications': 20,\n",
       " 'like': 59,\n",
       " 'chatbots': 41,\n",
       " 'translation': 130,\n",
       " 'sentiment': 101,\n",
       " 'analysis': 5,\n",
       " 'speech': 110,\n",
       " 'recognition': 92,\n",
       " 'as': 26,\n",
       " 'models': 68,\n",
       " 'remain': 95,\n",
       " 'concept': 47,\n",
       " 'analyzing': 8,\n",
       " 'predicting': 86,\n",
       " 'word': 148,\n",
       " 'sequences': 104,\n",
       " 'text': 116,\n",
       " 'artificial intelligence': 24,\n",
       " 'transforming the': 128,\n",
       " 'the way': 120,\n",
       " 'way we': 140,\n",
       " 'we interact': 143,\n",
       " 'with technology': 146,\n",
       " 'technology from': 114,\n",
       " 'voice assistants': 137,\n",
       " 'assistants to': 30,\n",
       " 'to self': 123,\n",
       " 'self driving': 99,\n",
       " 'cars ai': 39,\n",
       " 'ai is': 3,\n",
       " 'making machines': 66,\n",
       " 'machines smarter': 63,\n",
       " 'smarter and': 108,\n",
       " 'and more': 14,\n",
       " 'more capable': 72,\n",
       " 'capable natural': 36,\n",
       " 'natural language': 75,\n",
       " 'language processing': 55,\n",
       " 'processing branch': 90,\n",
       " 'branch of': 33,\n",
       " 'of ai': 78,\n",
       " 'ai focuses': 1,\n",
       " 'on enabling': 81,\n",
       " 'computers to': 45,\n",
       " 'to understand': 125,\n",
       " 'understand and': 134,\n",
       " 'and generate': 12,\n",
       " 'language effectively': 53,\n",
       " 'it powers': 50,\n",
       " 'powers applications': 84,\n",
       " 'applications like': 21,\n",
       " 'like chatbots': 60,\n",
       " 'chatbots language': 42,\n",
       " 'language translation': 57,\n",
       " 'translation sentiment': 131,\n",
       " 'sentiment analysis': 102,\n",
       " 'analysis and': 6,\n",
       " 'and speech': 18,\n",
       " 'speech recognition': 111,\n",
       " 'recognition as': 93,\n",
       " 'as the': 27,\n",
       " 'the field': 118,\n",
       " 'models remain': 69,\n",
       " 'remain foundational': 96,\n",
       " 'concept for': 48,\n",
       " 'analyzing and': 9,\n",
       " 'and predicting': 16,\n",
       " 'predicting word': 87,\n",
       " 'word sequences': 149,\n",
       " 'sequences in': 105,\n",
       " 'artificial intelligence is': 25,\n",
       " 'is transforming the': 49,\n",
       " 'transforming the way': 129,\n",
       " 'the way we': 121,\n",
       " 'way we interact': 141,\n",
       " 'we interact with': 144,\n",
       " 'with technology from': 147,\n",
       " 'technology from voice': 115,\n",
       " 'voice assistants to': 138,\n",
       " 'assistants to self': 31,\n",
       " 'to self driving': 124,\n",
       " 'self driving cars': 100,\n",
       " 'cars ai is': 40,\n",
       " 'ai is making': 4,\n",
       " 'making machines smarter': 67,\n",
       " 'machines smarter and': 64,\n",
       " 'smarter and more': 109,\n",
       " 'and more capable': 15,\n",
       " 'more capable natural': 73,\n",
       " 'capable natural language': 37,\n",
       " 'natural language processing': 76,\n",
       " 'language processing branch': 56,\n",
       " 'processing branch of': 91,\n",
       " 'branch of ai': 34,\n",
       " 'of ai focuses': 79,\n",
       " 'ai focuses on': 2,\n",
       " 'on enabling computers': 82,\n",
       " 'computers to understand': 46,\n",
       " 'to understand and': 126,\n",
       " 'understand and generate': 135,\n",
       " 'and generate human': 13,\n",
       " 'language effectively it': 54,\n",
       " 'it powers applications': 51,\n",
       " 'powers applications like': 85,\n",
       " 'applications like chatbots': 22,\n",
       " 'like chatbots language': 61,\n",
       " 'chatbots language translation': 43,\n",
       " 'language translation sentiment': 58,\n",
       " 'translation sentiment analysis': 132,\n",
       " 'sentiment analysis and': 103,\n",
       " 'analysis and speech': 7,\n",
       " 'and speech recognition': 19,\n",
       " 'speech recognition as': 112,\n",
       " 'recognition as the': 94,\n",
       " 'as the field': 28,\n",
       " 'the field evolves': 119,\n",
       " 'models remain foundational': 70,\n",
       " 'remain foundational concept': 97,\n",
       " 'analyzing and predicting': 10,\n",
       " 'and predicting word': 17,\n",
       " 'predicting word sequences': 88,\n",
       " 'sequences in text': 106}"
      ]
     },
     "execution_count": 27,
     "metadata": {},
     "output_type": "execute_result"
    }
   ],
   "source": [
    "print(\"The length of the vocabulary : \", len(cv2.vocabulary_))\n",
    "cv2.vocabulary_"
   ]
  },
  {
   "cell_type": "code",
   "execution_count": null,
   "id": "595ff41c",
   "metadata": {},
   "outputs": [],
   "source": []
  },
  {
   "cell_type": "code",
   "execution_count": null,
   "id": "4bcf67c5",
   "metadata": {},
   "outputs": [],
   "source": []
  },
  {
   "cell_type": "code",
   "execution_count": null,
   "id": "f02e11cf",
   "metadata": {},
   "outputs": [],
   "source": []
  }
 ],
 "metadata": {
  "kernelspec": {
   "display_name": "base",
   "language": "python",
   "name": "python3"
  },
  "language_info": {
   "codemirror_mode": {
    "name": "ipython",
    "version": 3
   },
   "file_extension": ".py",
   "mimetype": "text/x-python",
   "name": "python",
   "nbconvert_exporter": "python",
   "pygments_lexer": "ipython3",
   "version": "3.12.7"
  }
 },
 "nbformat": 4,
 "nbformat_minor": 5
}
