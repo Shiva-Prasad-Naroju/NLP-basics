{
 "cells": [
  {
   "cell_type": "markdown",
   "id": "3626d0ac",
   "metadata": {},
   "source": [
    "### ONE HOT ENCODING IN NLP:"
   ]
  },
  {
   "cell_type": "markdown",
   "id": "7cf26217",
   "metadata": {},
   "source": [
    "One-Hot Encoding is a technique to represent words (or tokens) as binary vectors, where:\n",
    "\n",
    "~ Each unique word in the vocabulary is assigned an index.\n",
    "\n",
    "~ The vector has a length equal to the vocabulary size.\n",
    "\n",
    "~ All values are 0, except the index"
   ]
  },
  {
   "cell_type": "code",
   "execution_count": 2,
   "id": "1adad23e",
   "metadata": {},
   "outputs": [],
   "source": [
    "corpus = [\"I love NLP\", \"Iam Shiva Prasad\", \"Iam passionated to word\"]"
   ]
  },
  {
   "cell_type": "code",
   "execution_count": 3,
   "id": "7ca17476",
   "metadata": {},
   "outputs": [],
   "source": [
    "from sklearn.feature_extraction.text import CountVectorizer\n",
    "cv = CountVectorizer(binary=True)\n",
    "vectors = cv.fit_transform(corpus).toarray()"
   ]
  },
  {
   "cell_type": "code",
   "execution_count": 4,
   "id": "bbacaf56",
   "metadata": {},
   "outputs": [
    {
     "name": "stdout",
     "output_type": "stream",
     "text": [
      "[[0 1 1 0 0 0 0 0]\n",
      " [1 0 0 0 1 1 0 0]\n",
      " [1 0 0 1 0 0 1 1]]\n"
     ]
    }
   ],
   "source": [
    "print(vectors)"
   ]
  },
  {
   "cell_type": "code",
   "execution_count": 9,
   "id": "a40d5e69",
   "metadata": {},
   "outputs": [
    {
     "name": "stdout",
     "output_type": "stream",
     "text": [
      "['iam' 'love' 'nlp' 'passionated' 'prasad' 'shiva' 'to' 'word']\n"
     ]
    }
   ],
   "source": [
    "# Printing the feature name / vocabular : These are all the unique words.\n",
    "print(cv.get_feature_names_out())"
   ]
  },
  {
   "cell_type": "markdown",
   "id": "f5da9885",
   "metadata": {},
   "source": [
    "#### Remove Stop Words"
   ]
  },
  {
   "cell_type": "code",
   "execution_count": 17,
   "id": "067367ad",
   "metadata": {},
   "outputs": [
    {
     "name": "stdout",
     "output_type": "stream",
     "text": [
      "['iam' 'love' 'nlp' 'passionated' 'prasad' 'shiva' 'word']\n"
     ]
    }
   ],
   "source": [
    "# Removing the stop words to remove the noise in the data:\n",
    "\n",
    "vc1 = CountVectorizer(stop_words='english')\n",
    "vectors1 = vc1.fit_transform(corpus).toarray()\n",
    "\n",
    "print(vc1.get_feature_names_out())"
   ]
  },
  {
   "cell_type": "markdown",
   "id": "3fca7e44",
   "metadata": {},
   "source": [
    "#### Apply Lowercase Normalization"
   ]
  },
  {
   "cell_type": "code",
   "execution_count": 19,
   "id": "4df2e178",
   "metadata": {},
   "outputs": [
    {
     "name": "stdout",
     "output_type": "stream",
     "text": [
      "['iam' 'love' 'nlp' 'passionated' 'prasad' 'shiva' 'to' 'word']\n"
     ]
    }
   ],
   "source": [
    "vc2 = CountVectorizer(lowercase=True)\n",
    "vectors2 = vc2.fit_transform(corpus).toarray()\n",
    "\n",
    "print(vc2.get_feature_names_out())\n",
    "\n",
    "# Outputs will be in the lowercase"
   ]
  },
  {
   "cell_type": "code",
   "execution_count": null,
   "id": "c2281295",
   "metadata": {},
   "outputs": [],
   "source": []
  }
 ],
 "metadata": {
  "kernelspec": {
   "display_name": "base",
   "language": "python",
   "name": "python3"
  },
  "language_info": {
   "codemirror_mode": {
    "name": "ipython",
    "version": 3
   },
   "file_extension": ".py",
   "mimetype": "text/x-python",
   "name": "python",
   "nbconvert_exporter": "python",
   "pygments_lexer": "ipython3",
   "version": "3.12.7"
  }
 },
 "nbformat": 4,
 "nbformat_minor": 5
}
