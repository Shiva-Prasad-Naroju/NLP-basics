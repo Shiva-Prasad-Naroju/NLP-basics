{
 "cells": [
  {
   "cell_type": "markdown",
   "id": "3c63d742",
   "metadata": {},
   "source": [
    "#### TF-IDF [Term Frequency and Inverse Document Frequency]:"
   ]
  },
  {
   "cell_type": "markdown",
   "id": "e171154e",
   "metadata": {},
   "source": [
    "TF-IDF is used to measure the importance of a word in a document relative to a collection of documents (corpus). It's commonly used in NLP and search engines."
   ]
  },
  {
   "cell_type": "code",
   "execution_count": 3,
   "id": "03e15891",
   "metadata": {},
   "outputs": [],
   "source": [
    "from sklearn.feature_extraction.text import TfidfVectorizer"
   ]
  },
  {
   "cell_type": "code",
   "execution_count": 4,
   "id": "79bf65d2",
   "metadata": {},
   "outputs": [],
   "source": [
    "corpus = [\n",
    "    \"Artificial Intelligence is changing the world.\",\n",
    "    \"Machine learning allows systems to learn from data.\",\n",
    "    \"Deep learning is a part of machine learning.\",\n",
    "    \"Neural networks are used in deep learning models.\",\n",
    "    \"Python is widely used in data science.\",\n",
    "    \"Data preprocessing is crucial in machine learning.\",\n",
    "    \"Supervised learning uses labeled data.\",\n",
    "    \"Unsupervised learning works with unlabeled data.\",\n",
    "    \"Reinforcement learning learns from rewards and penalties.\",\n",
    "    \"Decision trees are simple and interpretable models.\",\n",
    "    \"Random forests are built using multiple decision trees.\",\n",
    "    \"Logistic regression is used for binary classification.\",\n",
    "    \"Linear regression predicts continuous values.\",\n",
    "    \"Clustering groups data based on similarity.\",\n",
    "    \"K-means is a popular clustering algorithm.\",\n",
    "    \"Natural Language Processing deals with human language.\",\n",
    "    \"Tokenization is the first step in NLP.\",\n",
    "    \"TF-IDF helps identify important words in documents.\",\n",
    "    \"Feature scaling improves model performance.\",\n",
    "    \"Hyperparameter tuning boosts accuracy.\",\n",
    "    \"Cross-validation ensures model generalization.\",\n",
    "    \"Overfitting occurs when the model memorizes training data.\",\n",
    "    \"Underfitting happens when the model fails to learn patterns.\",\n",
    "    \"Model evaluation uses metrics like accuracy and F1-score.\",\n",
    "    \"Data visualization reveals insights through graphs and plots.\"\n",
    "]\n"
   ]
  },
  {
   "cell_type": "code",
   "execution_count": 28,
   "id": "5a7d6fa7",
   "metadata": {},
   "outputs": [],
   "source": [
    "# Initialize and fit the Tfidf Vectorizer\n",
    "tfidf = TfidfVectorizer()\n",
    "X = tfidf.fit_transform(corpus).toarray()"
   ]
  },
  {
   "cell_type": "code",
   "execution_count": 30,
   "id": "421e9be5",
   "metadata": {},
   "outputs": [
    {
     "name": "stdout",
     "output_type": "stream",
     "text": [
      "Length of the Vocabulary :  115\n",
      "\n",
      "['accuracy' 'algorithm' 'allows' 'and' 'are' 'artificial' 'based' 'binary'\n",
      " 'boosts' 'built' 'changing' 'classification' 'clustering' 'continuous'\n",
      " 'cross' 'crucial' 'data' 'deals' 'decision' 'deep' 'documents' 'ensures'\n",
      " 'evaluation' 'f1' 'fails' 'feature' 'first' 'for' 'forests' 'from'\n",
      " 'generalization' 'graphs' 'groups' 'happens' 'helps' 'human'\n",
      " 'hyperparameter' 'identify' 'idf' 'important' 'improves' 'in' 'insights'\n",
      " 'intelligence' 'interpretable' 'is' 'labeled' 'language' 'learn'\n",
      " 'learning' 'learns' 'like' 'linear' 'logistic' 'machine' 'means'\n",
      " 'memorizes' 'metrics' 'model' 'models' 'multiple' 'natural' 'networks'\n",
      " 'neural' 'nlp' 'occurs' 'of' 'on' 'overfitting' 'part' 'patterns'\n",
      " 'penalties' 'performance' 'plots' 'popular' 'predicts' 'preprocessing'\n",
      " 'processing' 'python' 'random' 'regression' 'reinforcement' 'reveals'\n",
      " 'rewards' 'scaling' 'science' 'score' 'similarity' 'simple' 'step'\n",
      " 'supervised' 'systems' 'tf' 'the' 'through' 'to' 'tokenization'\n",
      " 'training' 'trees' 'tuning' 'underfitting' 'unlabeled' 'unsupervised'\n",
      " 'used' 'uses' 'using' 'validation' 'values' 'visualization' 'when'\n",
      " 'widely' 'with' 'words' 'works' 'world']\n"
     ]
    }
   ],
   "source": [
    "print(\"Length of the Vocabulary : \", len(tfidf.vocabulary_))\n",
    "print()\n",
    "print(tfidf.get_feature_names_out())"
   ]
  },
  {
   "cell_type": "code",
   "execution_count": 8,
   "id": "1812df0c",
   "metadata": {},
   "outputs": [
    {
     "name": "stdout",
     "output_type": "stream",
     "text": [
      "[[0.         0.         0.         ... 0.         0.         0.45058348]\n",
      " [0.         0.         0.41837712 ... 0.         0.         0.        ]\n",
      " [0.         0.         0.         ... 0.         0.         0.        ]\n",
      " ...\n",
      " [0.         0.         0.         ... 0.         0.         0.        ]\n",
      " [0.32144851 0.         0.         ... 0.         0.         0.        ]\n",
      " [0.         0.         0.         ... 0.         0.         0.        ]]\n"
     ]
    }
   ],
   "source": [
    "print(X)"
   ]
  },
  {
   "cell_type": "markdown",
   "id": "e1e4a976",
   "metadata": {},
   "source": [
    "#### The values of probabilities in the output matrix show the importance of the term:"
   ]
  },
  {
   "cell_type": "markdown",
   "id": "df4d6676",
   "metadata": {},
   "source": [
    "#### Setting out the max_features:"
   ]
  },
  {
   "cell_type": "code",
   "execution_count": 27,
   "metadata": {},
   "outputs": [
    {
     "name": "stdout",
     "output_type": "stream",
     "text": [
      "Length of the Vocabulary :  79\n",
      "\n",
      "['accuracy' 'and' 'are' 'classification' 'clustering' 'continuous' 'cross'\n",
      " 'crucial' 'data' 'deals' 'decision' 'deep' 'documents' 'ensures'\n",
      " 'evaluation' 'f1' 'fails' 'feature' 'first' 'for' 'from' 'in' 'is'\n",
      " 'language' 'learn' 'learning' 'machine' 'metrics' 'model' 'models'\n",
      " 'neural' 'occurs' 'of' 'on' 'overfitting' 'part' 'patterns' 'penalties'\n",
      " 'performance' 'plots' 'popular' 'predicts' 'preprocessing' 'processing'\n",
      " 'python' 'random' 'regression' 'reinforcement' 'reveals' 'rewards'\n",
      " 'scaling' 'science' 'score' 'similarity' 'simple' 'step' 'supervised'\n",
      " 'systems' 'tf' 'the' 'through' 'to' 'tokenization' 'training' 'trees'\n",
      " 'tuning' 'underfitting' 'unlabeled' 'unsupervised' 'used' 'uses' 'using'\n",
      " 'validation' 'values' 'visualization' 'when' 'widely' 'with' 'words']\n"
     ]
    }
   ],
   "source": [
    "tfidf1 = TfidfVectorizer(max_features=79)\n",
    "X1 = tfidf1.fit_transform(corpus).toarray()\n",
    "print(\"Length of the Vocabulary : \", len(tfidf1.vocabulary_))\n",
    "print()\n",
    "print(tfidf1.get_feature_names_out())"
   ]
  },
  {
   "cell_type": "markdown",
   "id": "4110ac3d",
   "metadata": {},
   "source": [
    "#### Using the ngram_range:"
   ]
  },
  {
   "cell_type": "markdown",
   "id": "6a2b3bb9",
   "metadata": {},
   "source": [
    "#### Unigram:"
   ]
  },
  {
   "cell_type": "code",
   "execution_count": 31,
   "id": "605d9880",
   "metadata": {},
   "outputs": [
    {
     "name": "stdout",
     "output_type": "stream",
     "text": [
      "Length of the Vocabulary :  75\n",
      "\n",
      "['accuracy' 'and' 'are' 'clustering' 'data' 'deals' 'decision' 'deep'\n",
      " 'documents' 'ensures' 'evaluation' 'f1' 'fails' 'feature' 'first' 'for'\n",
      " 'from' 'in' 'is' 'language' 'learn' 'learning' 'machine' 'metrics'\n",
      " 'model' 'models' 'neural' 'occurs' 'of' 'on' 'overfitting' 'part'\n",
      " 'patterns' 'penalties' 'performance' 'plots' 'popular' 'predicts'\n",
      " 'preprocessing' 'processing' 'python' 'random' 'regression'\n",
      " 'reinforcement' 'reveals' 'rewards' 'scaling' 'science' 'score'\n",
      " 'similarity' 'simple' 'step' 'supervised' 'systems' 'tf' 'the' 'through'\n",
      " 'to' 'tokenization' 'training' 'trees' 'tuning' 'underfitting'\n",
      " 'unlabeled' 'unsupervised' 'used' 'uses' 'using' 'validation' 'values'\n",
      " 'visualization' 'when' 'widely' 'with' 'words']\n"
     ]
    }
   ],
   "source": [
    "tfidf2 = TfidfVectorizer(max_features=75, ngram_range=(1,1))\n",
    "X2 = tfidf2.fit_transform(corpus).toarray()\n",
    "print(\"Length of the Vocabulary : \", len(tfidf2.vocabulary_))\n",
    "print()\n",
    "print(tfidf2.get_feature_names_out())"
   ]
  },
  {
   "cell_type": "markdown",
   "id": "d9ccd5bc",
   "metadata": {},
   "source": [
    "#### Bigram:"
   ]
  },
  {
   "cell_type": "code",
   "execution_count": 32,
   "id": "6a7db6a1",
   "metadata": {},
   "outputs": [
    {
     "name": "stdout",
     "output_type": "stream",
     "text": [
      "Length of the Vocabulary :  251\n",
      "\n",
      "['accuracy' 'accuracy and' 'algorithm' 'allows' 'allows systems' 'and'\n",
      " 'and f1' 'and interpretable' 'and penalties' 'and plots' 'are'\n",
      " 'are built' 'are simple' 'are used' 'artificial'\n",
      " 'artificial intelligence' 'based' 'based on' 'binary'\n",
      " 'binary classification' 'boosts' 'boosts accuracy' 'built' 'built using'\n",
      " 'changing' 'changing the' 'classification' 'clustering'\n",
      " 'clustering algorithm' 'clustering groups' 'continuous'\n",
      " 'continuous values' 'cross' 'cross validation' 'crucial' 'crucial in'\n",
      " 'data' 'data based' 'data preprocessing' 'data science'\n",
      " 'data visualization' 'deals' 'deals with' 'decision' 'decision trees'\n",
      " 'deep' 'deep learning' 'documents' 'ensures' 'ensures model' 'evaluation'\n",
      " 'evaluation uses' 'f1' 'f1 score' 'fails' 'fails to' 'feature'\n",
      " 'feature scaling' 'first' 'first step' 'for' 'for binary' 'forests'\n",
      " 'forests are' 'from' 'from data' 'from rewards' 'generalization' 'graphs'\n",
      " 'graphs and' 'groups' 'groups data' 'happens' 'happens when' 'helps'\n",
      " 'helps identify' 'human' 'human language' 'hyperparameter'\n",
      " 'hyperparameter tuning' 'identify' 'identify important' 'idf' 'idf helps'\n",
      " 'important' 'important words' 'improves' 'improves model' 'in' 'in data'\n",
      " 'in deep' 'in documents' 'in machine' 'in nlp' 'insights'\n",
      " 'insights through' 'intelligence' 'intelligence is' 'interpretable'\n",
      " 'interpretable models' 'is' 'is changing' 'is crucial' 'is part'\n",
      " 'is popular' 'is the' 'is used' 'is widely' 'labeled' 'labeled data'\n",
      " 'language' 'language processing' 'learn' 'learn from' 'learn patterns'\n",
      " 'learning' 'learning allows' 'learning is' 'learning learns'\n",
      " 'learning models' 'learning uses' 'learning works' 'learns' 'learns from'\n",
      " 'like' 'like accuracy' 'linear' 'linear regression' 'logistic'\n",
      " 'logistic regression' 'machine' 'machine learning' 'means' 'means is'\n",
      " 'memorizes' 'memorizes training' 'metrics' 'metrics like' 'model'\n",
      " 'model evaluation' 'model fails' 'model generalization' 'model memorizes'\n",
      " 'model performance' 'models' 'multiple' 'multiple decision' 'natural'\n",
      " 'natural language' 'networks' 'networks are' 'neural' 'neural networks'\n",
      " 'nlp' 'occurs' 'occurs when' 'of' 'of machine' 'on' 'on similarity'\n",
      " 'overfitting' 'overfitting occurs' 'part' 'part of' 'patterns'\n",
      " 'penalties' 'performance' 'plots' 'popular' 'popular clustering'\n",
      " 'predicts' 'predicts continuous' 'preprocessing' 'preprocessing is'\n",
      " 'processing' 'processing deals' 'python' 'python is' 'random'\n",
      " 'random forests' 'regression' 'regression is' 'regression predicts'\n",
      " 'reinforcement' 'reinforcement learning' 'reveals' 'reveals insights'\n",
      " 'rewards' 'rewards and' 'scaling' 'scaling improves' 'science' 'score'\n",
      " 'similarity' 'simple' 'simple and' 'step' 'step in' 'supervised'\n",
      " 'supervised learning' 'systems' 'systems to' 'tf' 'tf idf' 'the'\n",
      " 'the first' 'the model' 'the world' 'through' 'through graphs' 'to'\n",
      " 'to learn' 'tokenization' 'tokenization is' 'training' 'training data'\n",
      " 'trees' 'trees are' 'tuning' 'tuning boosts' 'underfitting'\n",
      " 'underfitting happens' 'unlabeled' 'unlabeled data' 'unsupervised'\n",
      " 'unsupervised learning' 'used' 'used for' 'used in' 'uses' 'uses labeled'\n",
      " 'uses metrics' 'using' 'using multiple' 'validation' 'validation ensures'\n",
      " 'values' 'visualization' 'visualization reveals' 'when' 'when the'\n",
      " 'widely' 'widely used' 'with' 'with human' 'with unlabeled' 'words'\n",
      " 'words in' 'works' 'works with' 'world']\n"
     ]
    }
   ],
   "source": [
    "tfidf3 = TfidfVectorizer(ngram_range=(1,2))\n",
    "X3 = tfidf3.fit_transform(corpus).toarray()\n",
    "print(\"Length of the Vocabulary : \", len(tfidf3.vocabulary_))\n",
    "print()\n",
    "print(tfidf3.get_feature_names_out())"
   ]
  },
  {
   "cell_type": "markdown",
   "id": "c286c533",
   "metadata": {},
   "source": [
    "#### Trigram:"
   ]
  },
  {
   "cell_type": "code",
   "execution_count": 33,
   "metadata": {},
   "outputs": [
    {
     "name": "stdout",
     "output_type": "stream",
     "text": [
      "Length of the Vocabulary :  369\n",
      "\n",
      "['accuracy' 'accuracy and' 'accuracy and f1' 'algorithm' 'allows'\n",
      " 'allows systems' 'allows systems to' 'and' 'and f1' 'and f1 score'\n",
      " 'and interpretable' 'and interpretable models' 'and penalties'\n",
      " 'and plots' 'are' 'are built' 'are built using' 'are simple'\n",
      " 'are simple and' 'are used' 'are used in' 'artificial'\n",
      " 'artificial intelligence' 'artificial intelligence is' 'based' 'based on'\n",
      " 'based on similarity' 'binary' 'binary classification' 'boosts'\n",
      " 'boosts accuracy' 'built' 'built using' 'built using multiple' 'changing'\n",
      " 'changing the' 'changing the world' 'classification' 'clustering'\n",
      " 'clustering algorithm' 'clustering groups' 'clustering groups data'\n",
      " 'continuous' 'continuous values' 'cross' 'cross validation'\n",
      " 'cross validation ensures' 'crucial' 'crucial in' 'crucial in machine'\n",
      " 'data' 'data based' 'data based on' 'data preprocessing'\n",
      " 'data preprocessing is' 'data science' 'data visualization'\n",
      " 'data visualization reveals' 'deals' 'deals with' 'deals with human'\n",
      " 'decision' 'decision trees' 'decision trees are' 'deep' 'deep learning'\n",
      " 'deep learning is' 'deep learning models' 'documents' 'ensures'\n",
      " 'ensures model' 'ensures model generalization' 'evaluation'\n",
      " 'evaluation uses' 'evaluation uses metrics' 'f1' 'f1 score' 'fails'\n",
      " 'fails to' 'fails to learn' 'feature' 'feature scaling'\n",
      " 'feature scaling improves' 'first' 'first step' 'first step in' 'for'\n",
      " 'for binary' 'for binary classification' 'forests' 'forests are'\n",
      " 'forests are built' 'from' 'from data' 'from rewards' 'from rewards and'\n",
      " 'generalization' 'graphs' 'graphs and' 'graphs and plots' 'groups'\n",
      " 'groups data' 'groups data based' 'happens' 'happens when'\n",
      " 'happens when the' 'helps' 'helps identify' 'helps identify important'\n",
      " 'human' 'human language' 'hyperparameter' 'hyperparameter tuning'\n",
      " 'hyperparameter tuning boosts' 'identify' 'identify important'\n",
      " 'identify important words' 'idf' 'idf helps' 'idf helps identify'\n",
      " 'important' 'important words' 'important words in' 'improves'\n",
      " 'improves model' 'improves model performance' 'in' 'in data'\n",
      " 'in data science' 'in deep' 'in deep learning' 'in documents'\n",
      " 'in machine' 'in machine learning' 'in nlp' 'insights' 'insights through'\n",
      " 'insights through graphs' 'intelligence' 'intelligence is'\n",
      " 'intelligence is changing' 'interpretable' 'interpretable models' 'is'\n",
      " 'is changing' 'is changing the' 'is crucial' 'is crucial in' 'is part'\n",
      " 'is part of' 'is popular' 'is popular clustering' 'is the' 'is the first'\n",
      " 'is used' 'is used for' 'is widely' 'is widely used' 'labeled'\n",
      " 'labeled data' 'language' 'language processing'\n",
      " 'language processing deals' 'learn' 'learn from' 'learn from data'\n",
      " 'learn patterns' 'learning' 'learning allows' 'learning allows systems'\n",
      " 'learning is' 'learning is part' 'learning learns' 'learning learns from'\n",
      " 'learning models' 'learning uses' 'learning uses labeled'\n",
      " 'learning works' 'learning works with' 'learns' 'learns from'\n",
      " 'learns from rewards' 'like' 'like accuracy' 'like accuracy and' 'linear'\n",
      " 'linear regression' 'linear regression predicts' 'logistic'\n",
      " 'logistic regression' 'logistic regression is' 'machine'\n",
      " 'machine learning' 'machine learning allows' 'means' 'means is'\n",
      " 'means is popular' 'memorizes' 'memorizes training'\n",
      " 'memorizes training data' 'metrics' 'metrics like'\n",
      " 'metrics like accuracy' 'model' 'model evaluation'\n",
      " 'model evaluation uses' 'model fails' 'model fails to'\n",
      " 'model generalization' 'model memorizes' 'model memorizes training'\n",
      " 'model performance' 'models' 'multiple' 'multiple decision'\n",
      " 'multiple decision trees' 'natural' 'natural language'\n",
      " 'natural language processing' 'networks' 'networks are'\n",
      " 'networks are used' 'neural' 'neural networks' 'neural networks are'\n",
      " 'nlp' 'occurs' 'occurs when' 'occurs when the' 'of' 'of machine'\n",
      " 'of machine learning' 'on' 'on similarity' 'overfitting'\n",
      " 'overfitting occurs' 'overfitting occurs when' 'part' 'part of'\n",
      " 'part of machine' 'patterns' 'penalties' 'performance' 'plots' 'popular'\n",
      " 'popular clustering' 'popular clustering algorithm' 'predicts'\n",
      " 'predicts continuous' 'predicts continuous values' 'preprocessing'\n",
      " 'preprocessing is' 'preprocessing is crucial' 'processing'\n",
      " 'processing deals' 'processing deals with' 'python' 'python is'\n",
      " 'python is widely' 'random' 'random forests' 'random forests are'\n",
      " 'regression' 'regression is' 'regression is used' 'regression predicts'\n",
      " 'regression predicts continuous' 'reinforcement' 'reinforcement learning'\n",
      " 'reinforcement learning learns' 'reveals' 'reveals insights'\n",
      " 'reveals insights through' 'rewards' 'rewards and'\n",
      " 'rewards and penalties' 'scaling' 'scaling improves'\n",
      " 'scaling improves model' 'science' 'score' 'similarity' 'simple'\n",
      " 'simple and' 'simple and interpretable' 'step' 'step in' 'step in nlp'\n",
      " 'supervised' 'supervised learning' 'supervised learning uses' 'systems'\n",
      " 'systems to' 'systems to learn' 'tf' 'tf idf' 'tf idf helps' 'the'\n",
      " 'the first' 'the first step' 'the model' 'the model fails'\n",
      " 'the model memorizes' 'the world' 'through' 'through graphs'\n",
      " 'through graphs and' 'to' 'to learn' 'to learn from' 'to learn patterns'\n",
      " 'tokenization' 'tokenization is' 'tokenization is the' 'training'\n",
      " 'training data' 'trees' 'trees are' 'trees are simple' 'tuning'\n",
      " 'tuning boosts' 'tuning boosts accuracy' 'underfitting'\n",
      " 'underfitting happens' 'underfitting happens when' 'unlabeled'\n",
      " 'unlabeled data' 'unsupervised' 'unsupervised learning'\n",
      " 'unsupervised learning works' 'used' 'used for' 'used for binary'\n",
      " 'used in' 'used in data' 'used in deep' 'uses' 'uses labeled'\n",
      " 'uses labeled data' 'uses metrics' 'uses metrics like' 'using'\n",
      " 'using multiple' 'using multiple decision' 'validation'\n",
      " 'validation ensures' 'validation ensures model' 'values' 'visualization'\n",
      " 'visualization reveals' 'visualization reveals insights' 'when'\n",
      " 'when the' 'when the model' 'widely' 'widely used' 'widely used in'\n",
      " 'with' 'with human' 'with human language' 'with unlabeled'\n",
      " 'with unlabeled data' 'words' 'words in' 'words in documents' 'works'\n",
      " 'works with' 'works with unlabeled' 'world']\n"
     ]
    }
   ],
   "source": [
    "tfidf4 = TfidfVectorizer(ngram_range=(1,3))\n",
    "X4 = tfidf4.fit_transform(corpus).toarray()\n",
    "print(\"Length of the Vocabulary : \", len(tfidf4.vocabulary_))\n",
    "print()\n",
    "print(tfidf4.get_feature_names_out())"
   ]
  },
  {
   "cell_type": "code",
   "execution_count": null,
   "id": "f9211f01",
   "metadata": {},
   "outputs": [],
   "source": []
  },
  {
   "cell_type": "code",
   "execution_count": 19,
   "id": "0dda8faa",
   "metadata": {},
   "outputs": [
    {
     "name": "stdout",
     "output_type": "stream",
     "text": [
      "[[0.         0.         0.         ... 0.         0.         0.        ]\n",
      " [0.         0.         0.         ... 0.         0.         0.        ]\n",
      " [0.         0.         0.         ... 0.         0.         0.        ]\n",
      " ...\n",
      " [0.         0.         0.         ... 0.         0.         0.        ]\n",
      " [0.34493677 0.28916737 0.         ... 0.         0.         0.        ]\n",
      " [0.         0.33611434 0.         ... 0.         0.         0.        ]]\n"
     ]
    }
   ],
   "source": [
    "print(X1)"
   ]
  },
  {
   "cell_type": "code",
   "execution_count": 20,
   "metadata": {},
   "outputs": [
    {
     "name": "stdout",
     "output_type": "stream",
     "text": [
      "[[0.         0.         0.         ... 0.         0.         0.        ]\n",
      " [0.         0.         0.         ... 0.         0.         0.        ]\n",
      " [0.         0.         0.         ... 0.         0.         0.        ]\n",
      " ...\n",
      " [0.         0.         0.         ... 0.         0.         0.        ]\n",
      " [0.54947226 0.46063355 0.         ... 0.         0.         0.        ]\n",
      " [0.         0.54097705 0.         ... 0.         0.         0.        ]]\n"
     ]
    }
   ],
   "source": [
    "print(X2)"
   ]
  },
  {
   "cell_type": "code",
   "execution_count": 36,
   "id": "711b6536",
   "metadata": {},
   "outputs": [
    {
     "name": "stdout",
     "output_type": "stream",
     "text": [
      "[[0.         0.         0.         ... 0.         0.         0.31741249]\n",
      " [0.         0.         0.         ... 0.         0.         0.        ]\n",
      " [0.         0.         0.         ... 0.         0.         0.        ]\n",
      " ...\n",
      " [0.         0.         0.         ... 0.         0.         0.        ]\n",
      " [0.22437724 0.25317217 0.         ... 0.         0.         0.        ]\n",
      " [0.         0.         0.         ... 0.         0.         0.        ]]\n"
     ]
    }
   ],
   "source": [
    "print(X3)"
   ]
  },
  {
   "cell_type": "code",
   "execution_count": 37,
   "id": "321dc819",
   "metadata": {},
   "outputs": [
    {
     "name": "stdout",
     "output_type": "stream",
     "text": [
      "[[0.         0.         0.         ... 0.         0.         0.26797529]\n",
      " [0.         0.         0.         ... 0.         0.         0.        ]\n",
      " [0.         0.         0.         ... 0.         0.         0.        ]\n",
      " ...\n",
      " [0.         0.         0.         ... 0.         0.         0.        ]\n",
      " [0.18642047 0.21034431 0.21034431 ... 0.         0.         0.        ]\n",
      " [0.         0.         0.         ... 0.         0.         0.        ]]\n"
     ]
    }
   ],
   "source": [
    "print(X4)"
   ]
  },
  {
   "cell_type": "code",
   "execution_count": null,
   "id": "c8cb4bbc",
   "metadata": {},
   "outputs": [],
   "source": []
  },
  {
   "cell_type": "markdown",
   "id": "e694b39a",
   "metadata": {},
   "source": [
    "#### Summary:\n",
    "\n",
    "TF captures word frequency.\n",
    "\n",
    "IDF reduces the influence of common words.\n",
    "\n",
    "TF-IDF balances both to highlight meaningful words.\n"
   ]
  }
 ],
 "metadata": {
  "kernelspec": {
   "display_name": "base",
   "language": "python",
   "name": "python3"
  },
  "language_info": {
   "codemirror_mode": {
    "name": "ipython",
    "version": 3
   },
   "file_extension": ".py",
   "mimetype": "text/x-python",
   "name": "python",
   "nbconvert_exporter": "python",
   "pygments_lexer": "ipython3",
   "version": "3.12.7"
  }
 },
 "nbformat": 4,
 "nbformat_minor": 5
}
